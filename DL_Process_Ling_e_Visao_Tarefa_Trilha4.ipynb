{
  "nbformat": 4,
  "nbformat_minor": 0,
  "metadata": {
    "colab": {
      "name": "DL_Process_Ling_e_Visao_Tarefa_Trilha4.ipynb",
      "provenance": [],
      "collapsed_sections": [],
      "include_colab_link": true
    },
    "kernelspec": {
      "name": "python3",
      "display_name": "Python 3"
    },
    "language_info": {
      "name": "python"
    }
  },
  "cells": [
    {
      "cell_type": "markdown",
      "metadata": {
        "id": "view-in-github",
        "colab_type": "text"
      },
      "source": [
        "<a href=\"https://colab.research.google.com/github/awgimenes/DEEP_LEARNING_PARA_PROCESSAMENTO_DE_LINGUAGEM_E_VISAO/blob/main/DL_Process_Ling_e_Visao_Tarefa_Trilha4.ipynb\" target=\"_parent\"><img src=\"https://colab.research.google.com/assets/colab-badge.svg\" alt=\"Open In Colab\"/></a>"
      ]
    },
    {
      "cell_type": "markdown",
      "source": [
        "# DEEP LEARNING PARA PROCESSAMENTO DE LINGUAGEM E VISÃO [TURMA 01B]\n",
        "Tarefa trilha 4 - \n",
        "Anderson Willians Gimenes - 10992120393\n",
        "\n",
        "https://colab.research.google.com/drive/1RH1dJoEnDeYGJ81MZAb_aJALz__XAPv-?usp=sharing\n"
      ],
      "metadata": {
        "id": "yDD74a5Qiuko"
      }
    },
    {
      "cell_type": "code",
      "metadata": {
        "id": "Uy4VcT504zUQ"
      },
      "source": [
        "# Garante que o Colab utilizará o TensorFlow 2.x\n",
        "%tensorflow_version 2.x\n",
        "from __future__ import absolute_import, division, print_function, unicode_literals"
      ],
      "execution_count": null,
      "outputs": []
    },
    {
      "cell_type": "code",
      "metadata": {
        "id": "LL_OQ4d79hGF"
      },
      "source": [
        "import itertools\n",
        "import numpy as np\n",
        "import pandas as pd\n",
        "from matplotlib import pyplot as plt"
      ],
      "execution_count": null,
      "outputs": []
    },
    {
      "cell_type": "code",
      "metadata": {
        "id": "Yi1dRUrxHqjJ"
      },
      "source": [
        "from sklearn.model_selection import train_test_split\n",
        "from sklearn.metrics import accuracy_score"
      ],
      "execution_count": null,
      "outputs": []
    },
    {
      "cell_type": "code",
      "metadata": {
        "id": "FWq3UHLP9idF"
      },
      "source": [
        "import tensorflow as tf\n",
        "from tensorflow import keras\n",
        "from tensorflow.keras import utils\n",
        "from tensorflow.keras import layers\n",
        "from tensorflow.keras import models\n",
        "from tensorflow.keras import datasets\n",
        "from tensorflow.keras import optimizers"
      ],
      "execution_count": null,
      "outputs": []
    },
    {
      "cell_type": "code",
      "metadata": {
        "collapsed": true,
        "id": "4D8hLeJbFkjF"
      },
      "source": [
        "data = np.load('ORL_faces.npz')"
      ],
      "execution_count": null,
      "outputs": []
    },
    {
      "cell_type": "code",
      "metadata": {
        "id": "aFzvxnc3HAVC"
      },
      "source": [
        "X_train = data['trainX']\n",
        "X_train = np.array(X_train, dtype=np.float32)/255\n",
        "\n",
        "X_test = data['testX']\n",
        "X_test = np.array(X_test, dtype=np.float32)/255\n",
        "\n",
        "y_train = data['trainY']\n",
        "y_test = data['testY']"
      ],
      "execution_count": null,
      "outputs": []
    },
    {
      "cell_type": "code",
      "source": [
        "# show the train and test Data format\n",
        "print('X_train : {}'.format(X_train[:]))\n",
        "print('Y-train shape: {}'.format(y_train))\n",
        "print('x_test shape: {}'.format(X_test.shape))"
      ],
      "metadata": {
        "colab": {
          "base_uri": "https://localhost:8080/"
        },
        "id": "m2ehAGdcxFVb",
        "outputId": "99326758-4c5c-4690-f074-f70d2533a17c"
      },
      "execution_count": null,
      "outputs": [
        {
          "output_type": "stream",
          "name": "stdout",
          "text": [
            "X_train : [[0.1882353  0.19215687 0.1764706  ... 0.18431373 0.18039216 0.18039216]\n",
            " [0.23529412 0.23529412 0.24313726 ... 0.1254902  0.13333334 0.13333334]\n",
            " [0.15294118 0.17254902 0.20784314 ... 0.11372549 0.10196079 0.11372549]\n",
            " ...\n",
            " [0.44705883 0.45882353 0.44705883 ... 0.38431373 0.3764706  0.38431373]\n",
            " [0.4117647  0.4117647  0.41960785 ... 0.21176471 0.18431373 0.16078432]\n",
            " [0.45490196 0.44705883 0.45882353 ... 0.37254903 0.39215687 0.39607844]]\n",
            "Y-train shape: [ 0  0  0  0  0  0  0  0  0  0  0  0  1  1  1  1  1  1  1  1  1  1  1  1\n",
            "  2  2  2  2  2  2  2  2  2  2  2  2  3  3  3  3  3  3  3  3  3  3  3  3\n",
            "  4  4  4  4  4  4  4  4  4  4  4  4  5  5  5  5  5  5  5  5  5  5  5  5\n",
            "  6  6  6  6  6  6  6  6  6  6  6  6  7  7  7  7  7  7  7  7  7  7  7  7\n",
            "  8  8  8  8  8  8  8  8  8  8  8  8  9  9  9  9  9  9  9  9  9  9  9  9\n",
            " 10 10 10 10 10 10 10 10 10 10 10 10 11 11 11 11 11 11 11 11 11 11 11 11\n",
            " 12 12 12 12 12 12 12 12 12 12 12 12 13 13 13 13 13 13 13 13 13 13 13 13\n",
            " 14 14 14 14 14 14 14 14 14 14 14 14 15 15 15 15 15 15 15 15 15 15 15 15\n",
            " 16 16 16 16 16 16 16 16 16 16 16 16 17 17 17 17 17 17 17 17 17 17 17 17\n",
            " 18 18 18 18 18 18 18 18 18 18 18 18 19 19 19 19 19 19 19 19 19 19 19 19]\n",
            "x_test shape: (160, 10304)\n"
          ]
        }
      ]
    },
    {
      "cell_type": "code",
      "metadata": {
        "id": "BfknoJA5Hcny"
      },
      "source": [
        "X_train, X_valid, y_train, y_valid = train_test_split(X_train, y_train, test_size=.05, random_state=42)"
      ],
      "execution_count": null,
      "outputs": []
    },
    {
      "cell_type": "code",
      "source": [
        "print(X_train.shape, X_test.shape)"
      ],
      "metadata": {
        "colab": {
          "base_uri": "https://localhost:8080/"
        },
        "id": "-XWcXkfLlFZ1",
        "outputId": "ee14f540-1d20-46b6-bc52-d3e2150f6b8f"
      },
      "execution_count": null,
      "outputs": [
        {
          "output_type": "stream",
          "name": "stdout",
          "text": [
            "(228, 10304) (160, 10304)\n"
          ]
        }
      ]
    },
    {
      "cell_type": "code",
      "metadata": {
        "id": "itd2gVcQHkma"
      },
      "source": [
        "im_rows = 112\n",
        "im_cols = 92\n",
        "im_shape = (im_rows, im_cols, 1)"
      ],
      "execution_count": null,
      "outputs": []
    },
    {
      "cell_type": "markdown",
      "metadata": {
        "id": "-hpTlkwoVOT0"
      },
      "source": [
        "1. **Reformate** os dados de treinamento, validação e teste no formato adequado para a rede neural."
      ]
    },
    {
      "cell_type": "code",
      "metadata": {
        "id": "rO9a9iSaez9q",
        "colab": {
          "base_uri": "https://localhost:8080/"
        },
        "outputId": "d37ad039-1310-4074-bc99-76e493216269"
      },
      "source": [
        "# 1. Reformatar os dados de entrada\n",
        "#change the size of images\n",
        "X_train = X_train.reshape(X_train.shape[0], *im_shape)\n",
        "X_test = X_test.reshape(X_test.shape[0], *im_shape)\n",
        "#X_valid = x_valid.reshape(x_valid.shape[0], *im_shape)\n",
        "\n",
        "print('x_train shape: {}'.format(X_train.shape))\n",
        "print('x_test shape: {}'.format(X_test.shape))"
      ],
      "execution_count": null,
      "outputs": [
        {
          "output_type": "stream",
          "name": "stdout",
          "text": [
            "x_train shape: (228, 112, 92, 1)\n",
            "x_test shape: (160, 112, 92, 1)\n"
          ]
        }
      ]
    },
    {
      "cell_type": "markdown",
      "metadata": {
        "id": "l9-L73TcWBpp"
      },
      "source": [
        "2. **Construa** a rede neural convolucional objetivando o resultado da métrica apresentado no final deste notebook."
      ]
    },
    {
      "cell_type": "code",
      "metadata": {
        "id": "AQRJIjYsH7gb",
        "colab": {
          "base_uri": "https://localhost:8080/"
        },
        "outputId": "1589f7d6-3273-4171-b5a2-e7303de48d49"
      },
      "source": [
        "# 2. Construindo o modelo\n",
        "model = keras.models.Sequential()\n",
        "model.add(keras.layers.Conv2D(36, (3, 3), activation='relu', input_shape=(112, 92, 1))) # (image_height, image_width, image_channels)\n",
        "model.add(keras.layers.MaxPooling2D((2, 2)))\n",
        "model.add(keras.layers.Conv2D(54, (3, 3), activation='relu'))\n",
        "model.add(keras.layers.MaxPooling2D((2, 2)))\n",
        "model.add(keras.layers.Flatten())\n",
        "model.add(keras.layers.Dense(2024, activation='relu'))\n",
        "model.add(keras.layers.Dropout(0.5))\n",
        "model.add(keras.layers.Dense(1024, activation='relu'))\n",
        "model.add(keras.layers.Dropout(0.5))\n",
        "model.add(keras.layers.Dense(512, activation='relu'))\n",
        "model.add(keras.layers.Dropout(0.5))\n",
        "model.add(keras.layers.Dense(20, activation='softmax'))\n",
        "model.summary()"
      ],
      "execution_count": null,
      "outputs": [
        {
          "output_type": "stream",
          "name": "stdout",
          "text": [
            "Model: \"sequential\"\n",
            "_________________________________________________________________\n",
            " Layer (type)                Output Shape              Param #   \n",
            "=================================================================\n",
            " conv2d (Conv2D)             (None, 110, 90, 36)       360       \n",
            "                                                                 \n",
            " max_pooling2d (MaxPooling2D  (None, 55, 45, 36)       0         \n",
            " )                                                               \n",
            "                                                                 \n",
            " conv2d_1 (Conv2D)           (None, 53, 43, 54)        17550     \n",
            "                                                                 \n",
            " max_pooling2d_1 (MaxPooling  (None, 26, 21, 54)       0         \n",
            " 2D)                                                             \n",
            "                                                                 \n",
            " flatten (Flatten)           (None, 29484)             0         \n",
            "                                                                 \n",
            " dense (Dense)               (None, 2024)              59677640  \n",
            "                                                                 \n",
            " dropout (Dropout)           (None, 2024)              0         \n",
            "                                                                 \n",
            " dense_1 (Dense)             (None, 1024)              2073600   \n",
            "                                                                 \n",
            " dropout_1 (Dropout)         (None, 1024)              0         \n",
            "                                                                 \n",
            " dense_2 (Dense)             (None, 512)               524800    \n",
            "                                                                 \n",
            " dropout_2 (Dropout)         (None, 512)               0         \n",
            "                                                                 \n",
            " dense_3 (Dense)             (None, 20)                10260     \n",
            "                                                                 \n",
            "=================================================================\n",
            "Total params: 62,304,210\n",
            "Trainable params: 62,304,210\n",
            "Non-trainable params: 0\n",
            "_________________________________________________________________\n"
          ]
        }
      ]
    },
    {
      "cell_type": "markdown",
      "metadata": {
        "id": "PSsdOtEFVVps"
      },
      "source": [
        "3. **Compile** o modelo com os seguintes parâmetros:\n",
        "* **Loss:** sparse_categorical_entropy;\n",
        "* **Optimizer:** Adam;\n",
        "* **Metrics:** accuracy."
      ]
    },
    {
      "cell_type": "code",
      "source": [
        "# 3. Compilando o modelo\n",
        "model.compile(optimizer='Adam',\n",
        "              loss='sparse_categorical_crossentropy',\n",
        "              metrics=['accuracy'])"
      ],
      "metadata": {
        "id": "fAND-a1u0rRL"
      },
      "execution_count": null,
      "outputs": []
    },
    {
      "cell_type": "code",
      "metadata": {
        "id": "QB_rYcITNlmu"
      },
      "source": [
        ""
      ],
      "execution_count": null,
      "outputs": []
    },
    {
      "cell_type": "markdown",
      "metadata": {
        "id": "Dwv5-0MGWSu8"
      },
      "source": [
        "4. **Ajuste** o modelo aos dados de treinamento considerando os seguintes parâmetros:\n",
        "* batch_size = 512\n",
        "* verbose = 2"
      ]
    },
    {
      "cell_type": "code",
      "source": [
        "# 4. Ajustando os modelos aos dados de treinamento\n",
        "history = model.fit(X_train, y_train, epochs=250, verbose = 2, batch_size=512)"
      ],
      "metadata": {
        "colab": {
          "base_uri": "https://localhost:8080/"
        },
        "id": "uUWzsqOm12Nm",
        "outputId": "04f1374a-3799-4f70-e829-19bfd90d97a4"
      },
      "execution_count": null,
      "outputs": [
        {
          "output_type": "stream",
          "name": "stdout",
          "text": [
            "Epoch 1/250\n",
            "1/1 - 5s - loss: 3.0145 - accuracy: 0.0570 - 5s/epoch - 5s/step\n",
            "Epoch 2/250\n",
            "1/1 - 4s - loss: 3.5142 - accuracy: 0.0658 - 4s/epoch - 4s/step\n",
            "Epoch 3/250\n",
            "1/1 - 4s - loss: 3.3646 - accuracy: 0.0526 - 4s/epoch - 4s/step\n",
            "Epoch 4/250\n",
            "1/1 - 4s - loss: 3.1628 - accuracy: 0.0482 - 4s/epoch - 4s/step\n",
            "Epoch 5/250\n",
            "1/1 - 4s - loss: 3.0032 - accuracy: 0.0570 - 4s/epoch - 4s/step\n",
            "Epoch 6/250\n",
            "1/1 - 6s - loss: 2.9926 - accuracy: 0.0702 - 6s/epoch - 6s/step\n",
            "Epoch 7/250\n",
            "1/1 - 4s - loss: 2.9683 - accuracy: 0.0833 - 4s/epoch - 4s/step\n",
            "Epoch 8/250\n",
            "1/1 - 4s - loss: 2.9735 - accuracy: 0.0877 - 4s/epoch - 4s/step\n",
            "Epoch 9/250\n",
            "1/1 - 4s - loss: 2.9501 - accuracy: 0.1184 - 4s/epoch - 4s/step\n",
            "Epoch 10/250\n",
            "1/1 - 4s - loss: 2.9378 - accuracy: 0.0965 - 4s/epoch - 4s/step\n",
            "Epoch 11/250\n",
            "1/1 - 4s - loss: 2.9298 - accuracy: 0.0921 - 4s/epoch - 4s/step\n",
            "Epoch 12/250\n",
            "1/1 - 4s - loss: 2.9059 - accuracy: 0.1404 - 4s/epoch - 4s/step\n",
            "Epoch 13/250\n",
            "1/1 - 4s - loss: 2.8649 - accuracy: 0.1316 - 4s/epoch - 4s/step\n",
            "Epoch 14/250\n",
            "1/1 - 4s - loss: 2.8379 - accuracy: 0.1754 - 4s/epoch - 4s/step\n",
            "Epoch 15/250\n",
            "1/1 - 4s - loss: 2.7687 - accuracy: 0.1842 - 4s/epoch - 4s/step\n",
            "Epoch 16/250\n",
            "1/1 - 4s - loss: 2.7232 - accuracy: 0.2281 - 4s/epoch - 4s/step\n",
            "Epoch 17/250\n",
            "1/1 - 4s - loss: 2.6466 - accuracy: 0.2368 - 4s/epoch - 4s/step\n",
            "Epoch 18/250\n",
            "1/1 - 4s - loss: 2.5390 - accuracy: 0.2763 - 4s/epoch - 4s/step\n",
            "Epoch 19/250\n",
            "1/1 - 4s - loss: 2.4415 - accuracy: 0.2500 - 4s/epoch - 4s/step\n",
            "Epoch 20/250\n",
            "1/1 - 4s - loss: 2.3262 - accuracy: 0.3202 - 4s/epoch - 4s/step\n",
            "Epoch 21/250\n",
            "1/1 - 4s - loss: 2.2017 - accuracy: 0.3772 - 4s/epoch - 4s/step\n",
            "Epoch 22/250\n",
            "1/1 - 4s - loss: 1.9772 - accuracy: 0.3947 - 4s/epoch - 4s/step\n",
            "Epoch 23/250\n",
            "1/1 - 4s - loss: 1.8335 - accuracy: 0.4605 - 4s/epoch - 4s/step\n",
            "Epoch 24/250\n",
            "1/1 - 4s - loss: 1.7089 - accuracy: 0.4956 - 4s/epoch - 4s/step\n",
            "Epoch 25/250\n",
            "1/1 - 4s - loss: 1.4701 - accuracy: 0.5965 - 4s/epoch - 4s/step\n",
            "Epoch 26/250\n",
            "1/1 - 4s - loss: 1.2947 - accuracy: 0.6053 - 4s/epoch - 4s/step\n",
            "Epoch 27/250\n",
            "1/1 - 4s - loss: 1.1126 - accuracy: 0.7018 - 4s/epoch - 4s/step\n",
            "Epoch 28/250\n",
            "1/1 - 4s - loss: 1.0384 - accuracy: 0.6711 - 4s/epoch - 4s/step\n",
            "Epoch 29/250\n",
            "1/1 - 4s - loss: 0.8862 - accuracy: 0.7325 - 4s/epoch - 4s/step\n",
            "Epoch 30/250\n",
            "1/1 - 4s - loss: 0.7299 - accuracy: 0.7851 - 4s/epoch - 4s/step\n",
            "Epoch 31/250\n",
            "1/1 - 4s - loss: 0.6420 - accuracy: 0.7807 - 4s/epoch - 4s/step\n",
            "Epoch 32/250\n",
            "1/1 - 4s - loss: 0.5674 - accuracy: 0.8202 - 4s/epoch - 4s/step\n",
            "Epoch 33/250\n",
            "1/1 - 4s - loss: 0.4595 - accuracy: 0.8465 - 4s/epoch - 4s/step\n",
            "Epoch 34/250\n",
            "1/1 - 4s - loss: 0.3744 - accuracy: 0.8772 - 4s/epoch - 4s/step\n",
            "Epoch 35/250\n",
            "1/1 - 4s - loss: 0.3691 - accuracy: 0.8772 - 4s/epoch - 4s/step\n",
            "Epoch 36/250\n",
            "1/1 - 4s - loss: 0.3111 - accuracy: 0.9079 - 4s/epoch - 4s/step\n",
            "Epoch 37/250\n",
            "1/1 - 4s - loss: 0.2636 - accuracy: 0.9123 - 4s/epoch - 4s/step\n",
            "Epoch 38/250\n",
            "1/1 - 4s - loss: 0.1957 - accuracy: 0.9561 - 4s/epoch - 4s/step\n",
            "Epoch 39/250\n",
            "1/1 - 4s - loss: 0.2030 - accuracy: 0.9386 - 4s/epoch - 4s/step\n",
            "Epoch 40/250\n",
            "1/1 - 4s - loss: 0.1711 - accuracy: 0.9518 - 4s/epoch - 4s/step\n",
            "Epoch 41/250\n",
            "1/1 - 4s - loss: 0.1475 - accuracy: 0.9605 - 4s/epoch - 4s/step\n",
            "Epoch 42/250\n",
            "1/1 - 4s - loss: 0.1353 - accuracy: 0.9561 - 4s/epoch - 4s/step\n",
            "Epoch 43/250\n",
            "1/1 - 4s - loss: 0.0879 - accuracy: 0.9781 - 4s/epoch - 4s/step\n",
            "Epoch 44/250\n",
            "1/1 - 4s - loss: 0.0810 - accuracy: 0.9737 - 4s/epoch - 4s/step\n",
            "Epoch 45/250\n",
            "1/1 - 4s - loss: 0.0599 - accuracy: 0.9868 - 4s/epoch - 4s/step\n",
            "Epoch 46/250\n",
            "1/1 - 4s - loss: 0.0477 - accuracy: 0.9868 - 4s/epoch - 4s/step\n",
            "Epoch 47/250\n",
            "1/1 - 4s - loss: 0.0674 - accuracy: 0.9737 - 4s/epoch - 4s/step\n",
            "Epoch 48/250\n",
            "1/1 - 4s - loss: 0.0365 - accuracy: 0.9912 - 4s/epoch - 4s/step\n",
            "Epoch 49/250\n",
            "1/1 - 4s - loss: 0.0489 - accuracy: 0.9912 - 4s/epoch - 4s/step\n",
            "Epoch 50/250\n",
            "1/1 - 4s - loss: 0.0395 - accuracy: 0.9912 - 4s/epoch - 4s/step\n",
            "Epoch 51/250\n",
            "1/1 - 4s - loss: 0.0335 - accuracy: 0.9912 - 4s/epoch - 4s/step\n",
            "Epoch 52/250\n",
            "1/1 - 4s - loss: 0.0161 - accuracy: 0.9956 - 4s/epoch - 4s/step\n",
            "Epoch 53/250\n",
            "1/1 - 4s - loss: 0.0228 - accuracy: 0.9956 - 4s/epoch - 4s/step\n",
            "Epoch 54/250\n",
            "1/1 - 4s - loss: 0.0318 - accuracy: 0.9868 - 4s/epoch - 4s/step\n",
            "Epoch 55/250\n",
            "1/1 - 4s - loss: 0.0047 - accuracy: 1.0000 - 4s/epoch - 4s/step\n",
            "Epoch 56/250\n",
            "1/1 - 4s - loss: 0.0183 - accuracy: 1.0000 - 4s/epoch - 4s/step\n",
            "Epoch 57/250\n",
            "1/1 - 4s - loss: 0.0080 - accuracy: 1.0000 - 4s/epoch - 4s/step\n",
            "Epoch 58/250\n",
            "1/1 - 4s - loss: 0.0145 - accuracy: 0.9956 - 4s/epoch - 4s/step\n",
            "Epoch 59/250\n",
            "1/1 - 4s - loss: 0.0102 - accuracy: 0.9956 - 4s/epoch - 4s/step\n",
            "Epoch 60/250\n",
            "1/1 - 4s - loss: 0.0068 - accuracy: 1.0000 - 4s/epoch - 4s/step\n",
            "Epoch 61/250\n",
            "1/1 - 4s - loss: 0.0261 - accuracy: 0.9956 - 4s/epoch - 4s/step\n",
            "Epoch 62/250\n",
            "1/1 - 4s - loss: 0.0111 - accuracy: 0.9956 - 4s/epoch - 4s/step\n",
            "Epoch 63/250\n",
            "1/1 - 4s - loss: 0.0098 - accuracy: 1.0000 - 4s/epoch - 4s/step\n",
            "Epoch 64/250\n",
            "1/1 - 4s - loss: 0.0068 - accuracy: 1.0000 - 4s/epoch - 4s/step\n",
            "Epoch 65/250\n",
            "1/1 - 4s - loss: 0.0030 - accuracy: 1.0000 - 4s/epoch - 4s/step\n",
            "Epoch 66/250\n",
            "1/1 - 4s - loss: 0.0160 - accuracy: 0.9912 - 4s/epoch - 4s/step\n",
            "Epoch 67/250\n",
            "1/1 - 4s - loss: 0.0204 - accuracy: 0.9956 - 4s/epoch - 4s/step\n",
            "Epoch 68/250\n",
            "1/1 - 4s - loss: 0.0063 - accuracy: 1.0000 - 4s/epoch - 4s/step\n",
            "Epoch 69/250\n",
            "1/1 - 4s - loss: 0.0156 - accuracy: 0.9912 - 4s/epoch - 4s/step\n",
            "Epoch 70/250\n",
            "1/1 - 4s - loss: 0.0021 - accuracy: 1.0000 - 4s/epoch - 4s/step\n",
            "Epoch 71/250\n",
            "1/1 - 4s - loss: 0.0028 - accuracy: 1.0000 - 4s/epoch - 4s/step\n",
            "Epoch 72/250\n",
            "1/1 - 4s - loss: 0.0033 - accuracy: 1.0000 - 4s/epoch - 4s/step\n",
            "Epoch 73/250\n",
            "1/1 - 4s - loss: 0.0074 - accuracy: 1.0000 - 4s/epoch - 4s/step\n",
            "Epoch 74/250\n",
            "1/1 - 4s - loss: 0.0062 - accuracy: 1.0000 - 4s/epoch - 4s/step\n",
            "Epoch 75/250\n",
            "1/1 - 4s - loss: 0.0082 - accuracy: 1.0000 - 4s/epoch - 4s/step\n",
            "Epoch 76/250\n",
            "1/1 - 4s - loss: 0.0020 - accuracy: 1.0000 - 4s/epoch - 4s/step\n",
            "Epoch 77/250\n",
            "1/1 - 4s - loss: 0.0037 - accuracy: 1.0000 - 4s/epoch - 4s/step\n",
            "Epoch 78/250\n",
            "1/1 - 4s - loss: 0.0085 - accuracy: 0.9956 - 4s/epoch - 4s/step\n",
            "Epoch 79/250\n",
            "1/1 - 4s - loss: 0.0080 - accuracy: 1.0000 - 4s/epoch - 4s/step\n",
            "Epoch 80/250\n",
            "1/1 - 4s - loss: 0.0037 - accuracy: 1.0000 - 4s/epoch - 4s/step\n",
            "Epoch 81/250\n",
            "1/1 - 4s - loss: 0.0026 - accuracy: 1.0000 - 4s/epoch - 4s/step\n",
            "Epoch 82/250\n",
            "1/1 - 4s - loss: 0.0031 - accuracy: 1.0000 - 4s/epoch - 4s/step\n",
            "Epoch 83/250\n",
            "1/1 - 4s - loss: 0.0037 - accuracy: 1.0000 - 4s/epoch - 4s/step\n",
            "Epoch 84/250\n",
            "1/1 - 4s - loss: 0.0025 - accuracy: 1.0000 - 4s/epoch - 4s/step\n",
            "Epoch 85/250\n",
            "1/1 - 4s - loss: 0.0060 - accuracy: 1.0000 - 4s/epoch - 4s/step\n",
            "Epoch 86/250\n",
            "1/1 - 4s - loss: 0.0020 - accuracy: 1.0000 - 4s/epoch - 4s/step\n",
            "Epoch 87/250\n",
            "1/1 - 4s - loss: 0.0021 - accuracy: 1.0000 - 4s/epoch - 4s/step\n",
            "Epoch 88/250\n",
            "1/1 - 4s - loss: 6.8059e-04 - accuracy: 1.0000 - 4s/epoch - 4s/step\n",
            "Epoch 89/250\n",
            "1/1 - 4s - loss: 0.0029 - accuracy: 1.0000 - 4s/epoch - 4s/step\n",
            "Epoch 90/250\n",
            "1/1 - 4s - loss: 0.0093 - accuracy: 0.9956 - 4s/epoch - 4s/step\n",
            "Epoch 91/250\n",
            "1/1 - 4s - loss: 0.0060 - accuracy: 1.0000 - 4s/epoch - 4s/step\n",
            "Epoch 92/250\n",
            "1/1 - 4s - loss: 0.0036 - accuracy: 1.0000 - 4s/epoch - 4s/step\n",
            "Epoch 93/250\n",
            "1/1 - 4s - loss: 0.0031 - accuracy: 1.0000 - 4s/epoch - 4s/step\n",
            "Epoch 94/250\n",
            "1/1 - 4s - loss: 0.0017 - accuracy: 1.0000 - 4s/epoch - 4s/step\n",
            "Epoch 95/250\n",
            "1/1 - 4s - loss: 0.0026 - accuracy: 1.0000 - 4s/epoch - 4s/step\n",
            "Epoch 96/250\n",
            "1/1 - 4s - loss: 0.0016 - accuracy: 1.0000 - 4s/epoch - 4s/step\n",
            "Epoch 97/250\n",
            "1/1 - 4s - loss: 0.0028 - accuracy: 1.0000 - 4s/epoch - 4s/step\n",
            "Epoch 98/250\n",
            "1/1 - 4s - loss: 9.4118e-04 - accuracy: 1.0000 - 4s/epoch - 4s/step\n",
            "Epoch 99/250\n",
            "1/1 - 4s - loss: 4.0937e-04 - accuracy: 1.0000 - 4s/epoch - 4s/step\n",
            "Epoch 100/250\n",
            "1/1 - 4s - loss: 5.7768e-04 - accuracy: 1.0000 - 4s/epoch - 4s/step\n",
            "Epoch 101/250\n",
            "1/1 - 4s - loss: 8.8541e-04 - accuracy: 1.0000 - 4s/epoch - 4s/step\n",
            "Epoch 102/250\n",
            "1/1 - 4s - loss: 0.0025 - accuracy: 1.0000 - 4s/epoch - 4s/step\n",
            "Epoch 103/250\n",
            "1/1 - 4s - loss: 0.0011 - accuracy: 1.0000 - 4s/epoch - 4s/step\n",
            "Epoch 104/250\n",
            "1/1 - 4s - loss: 0.0030 - accuracy: 1.0000 - 4s/epoch - 4s/step\n",
            "Epoch 105/250\n",
            "1/1 - 4s - loss: 0.0066 - accuracy: 0.9956 - 4s/epoch - 4s/step\n",
            "Epoch 106/250\n",
            "1/1 - 4s - loss: 9.2906e-04 - accuracy: 1.0000 - 4s/epoch - 4s/step\n",
            "Epoch 107/250\n",
            "1/1 - 4s - loss: 0.0052 - accuracy: 0.9956 - 4s/epoch - 4s/step\n",
            "Epoch 108/250\n",
            "1/1 - 4s - loss: 0.0059 - accuracy: 0.9956 - 4s/epoch - 4s/step\n",
            "Epoch 109/250\n",
            "1/1 - 4s - loss: 0.0016 - accuracy: 1.0000 - 4s/epoch - 4s/step\n",
            "Epoch 110/250\n",
            "1/1 - 4s - loss: 0.0025 - accuracy: 1.0000 - 4s/epoch - 4s/step\n",
            "Epoch 111/250\n",
            "1/1 - 4s - loss: 6.0649e-04 - accuracy: 1.0000 - 4s/epoch - 4s/step\n",
            "Epoch 112/250\n",
            "1/1 - 4s - loss: 0.0013 - accuracy: 1.0000 - 4s/epoch - 4s/step\n",
            "Epoch 113/250\n",
            "1/1 - 4s - loss: 0.0012 - accuracy: 1.0000 - 4s/epoch - 4s/step\n",
            "Epoch 114/250\n",
            "1/1 - 4s - loss: 4.6278e-04 - accuracy: 1.0000 - 4s/epoch - 4s/step\n",
            "Epoch 115/250\n",
            "1/1 - 4s - loss: 0.0020 - accuracy: 1.0000 - 4s/epoch - 4s/step\n",
            "Epoch 116/250\n",
            "1/1 - 4s - loss: 7.0634e-04 - accuracy: 1.0000 - 4s/epoch - 4s/step\n",
            "Epoch 117/250\n",
            "1/1 - 4s - loss: 0.0044 - accuracy: 1.0000 - 4s/epoch - 4s/step\n",
            "Epoch 118/250\n",
            "1/1 - 4s - loss: 0.0027 - accuracy: 1.0000 - 4s/epoch - 4s/step\n",
            "Epoch 119/250\n",
            "1/1 - 4s - loss: 5.2019e-04 - accuracy: 1.0000 - 4s/epoch - 4s/step\n",
            "Epoch 120/250\n",
            "1/1 - 4s - loss: 0.0022 - accuracy: 1.0000 - 4s/epoch - 4s/step\n",
            "Epoch 121/250\n",
            "1/1 - 4s - loss: 8.4064e-04 - accuracy: 1.0000 - 4s/epoch - 4s/step\n",
            "Epoch 122/250\n",
            "1/1 - 4s - loss: 0.0013 - accuracy: 1.0000 - 4s/epoch - 4s/step\n",
            "Epoch 123/250\n",
            "1/1 - 4s - loss: 0.0016 - accuracy: 1.0000 - 4s/epoch - 4s/step\n",
            "Epoch 124/250\n",
            "1/1 - 4s - loss: 0.0031 - accuracy: 1.0000 - 4s/epoch - 4s/step\n",
            "Epoch 125/250\n",
            "1/1 - 4s - loss: 5.0846e-04 - accuracy: 1.0000 - 4s/epoch - 4s/step\n",
            "Epoch 126/250\n",
            "1/1 - 4s - loss: 3.1558e-04 - accuracy: 1.0000 - 4s/epoch - 4s/step\n",
            "Epoch 127/250\n",
            "1/1 - 4s - loss: 0.0037 - accuracy: 0.9956 - 4s/epoch - 4s/step\n",
            "Epoch 128/250\n",
            "1/1 - 4s - loss: 6.2338e-04 - accuracy: 1.0000 - 4s/epoch - 4s/step\n",
            "Epoch 129/250\n",
            "1/1 - 4s - loss: 2.9346e-04 - accuracy: 1.0000 - 4s/epoch - 4s/step\n",
            "Epoch 130/250\n",
            "1/1 - 4s - loss: 0.0012 - accuracy: 1.0000 - 4s/epoch - 4s/step\n",
            "Epoch 131/250\n",
            "1/1 - 4s - loss: 0.0016 - accuracy: 1.0000 - 4s/epoch - 4s/step\n",
            "Epoch 132/250\n",
            "1/1 - 4s - loss: 3.2465e-04 - accuracy: 1.0000 - 4s/epoch - 4s/step\n",
            "Epoch 133/250\n",
            "1/1 - 4s - loss: 8.7979e-04 - accuracy: 1.0000 - 4s/epoch - 4s/step\n",
            "Epoch 134/250\n",
            "1/1 - 4s - loss: 7.2514e-04 - accuracy: 1.0000 - 4s/epoch - 4s/step\n",
            "Epoch 135/250\n",
            "1/1 - 4s - loss: 0.0039 - accuracy: 1.0000 - 4s/epoch - 4s/step\n",
            "Epoch 136/250\n",
            "1/1 - 4s - loss: 3.3521e-04 - accuracy: 1.0000 - 4s/epoch - 4s/step\n",
            "Epoch 137/250\n",
            "1/1 - 4s - loss: 8.2312e-04 - accuracy: 1.0000 - 4s/epoch - 4s/step\n",
            "Epoch 138/250\n",
            "1/1 - 4s - loss: 5.8069e-04 - accuracy: 1.0000 - 4s/epoch - 4s/step\n",
            "Epoch 139/250\n",
            "1/1 - 4s - loss: 3.1353e-04 - accuracy: 1.0000 - 4s/epoch - 4s/step\n",
            "Epoch 140/250\n",
            "1/1 - 4s - loss: 0.0012 - accuracy: 1.0000 - 4s/epoch - 4s/step\n",
            "Epoch 141/250\n",
            "1/1 - 4s - loss: 0.0036 - accuracy: 1.0000 - 4s/epoch - 4s/step\n",
            "Epoch 142/250\n",
            "1/1 - 4s - loss: 2.9622e-04 - accuracy: 1.0000 - 4s/epoch - 4s/step\n",
            "Epoch 143/250\n",
            "1/1 - 4s - loss: 0.0037 - accuracy: 0.9956 - 4s/epoch - 4s/step\n",
            "Epoch 144/250\n",
            "1/1 - 4s - loss: 0.0013 - accuracy: 1.0000 - 4s/epoch - 4s/step\n",
            "Epoch 145/250\n",
            "1/1 - 4s - loss: 0.0016 - accuracy: 1.0000 - 4s/epoch - 4s/step\n",
            "Epoch 146/250\n",
            "1/1 - 4s - loss: 3.5838e-04 - accuracy: 1.0000 - 4s/epoch - 4s/step\n",
            "Epoch 147/250\n",
            "1/1 - 4s - loss: 2.8982e-04 - accuracy: 1.0000 - 4s/epoch - 4s/step\n",
            "Epoch 148/250\n",
            "1/1 - 4s - loss: 0.0038 - accuracy: 0.9956 - 4s/epoch - 4s/step\n",
            "Epoch 149/250\n",
            "1/1 - 4s - loss: 0.0020 - accuracy: 1.0000 - 4s/epoch - 4s/step\n",
            "Epoch 150/250\n",
            "1/1 - 4s - loss: 0.0018 - accuracy: 1.0000 - 4s/epoch - 4s/step\n",
            "Epoch 151/250\n",
            "1/1 - 4s - loss: 3.6392e-04 - accuracy: 1.0000 - 4s/epoch - 4s/step\n",
            "Epoch 152/250\n",
            "1/1 - 4s - loss: 7.6929e-04 - accuracy: 1.0000 - 4s/epoch - 4s/step\n",
            "Epoch 153/250\n",
            "1/1 - 4s - loss: 4.1042e-04 - accuracy: 1.0000 - 4s/epoch - 4s/step\n",
            "Epoch 154/250\n",
            "1/1 - 4s - loss: 0.0029 - accuracy: 1.0000 - 4s/epoch - 4s/step\n",
            "Epoch 155/250\n",
            "1/1 - 4s - loss: 0.0094 - accuracy: 0.9956 - 4s/epoch - 4s/step\n",
            "Epoch 156/250\n",
            "1/1 - 4s - loss: 0.0018 - accuracy: 1.0000 - 4s/epoch - 4s/step\n",
            "Epoch 157/250\n",
            "1/1 - 4s - loss: 4.5242e-04 - accuracy: 1.0000 - 4s/epoch - 4s/step\n",
            "Epoch 158/250\n",
            "1/1 - 4s - loss: 0.0041 - accuracy: 1.0000 - 4s/epoch - 4s/step\n",
            "Epoch 159/250\n",
            "1/1 - 4s - loss: 2.6660e-04 - accuracy: 1.0000 - 4s/epoch - 4s/step\n",
            "Epoch 160/250\n",
            "1/1 - 4s - loss: 2.0701e-04 - accuracy: 1.0000 - 4s/epoch - 4s/step\n",
            "Epoch 161/250\n",
            "1/1 - 4s - loss: 0.0027 - accuracy: 1.0000 - 4s/epoch - 4s/step\n",
            "Epoch 162/250\n",
            "1/1 - 4s - loss: 8.6089e-04 - accuracy: 1.0000 - 4s/epoch - 4s/step\n",
            "Epoch 163/250\n",
            "1/1 - 4s - loss: 0.0019 - accuracy: 1.0000 - 4s/epoch - 4s/step\n",
            "Epoch 164/250\n",
            "1/1 - 4s - loss: 0.0109 - accuracy: 0.9956 - 4s/epoch - 4s/step\n",
            "Epoch 165/250\n",
            "1/1 - 4s - loss: 9.9467e-04 - accuracy: 1.0000 - 4s/epoch - 4s/step\n",
            "Epoch 166/250\n",
            "1/1 - 4s - loss: 0.0044 - accuracy: 0.9956 - 4s/epoch - 4s/step\n",
            "Epoch 167/250\n",
            "1/1 - 4s - loss: 6.7619e-04 - accuracy: 1.0000 - 4s/epoch - 4s/step\n",
            "Epoch 168/250\n",
            "1/1 - 4s - loss: 0.0044 - accuracy: 1.0000 - 4s/epoch - 4s/step\n",
            "Epoch 169/250\n",
            "1/1 - 6s - loss: 0.0026 - accuracy: 1.0000 - 6s/epoch - 6s/step\n",
            "Epoch 170/250\n",
            "1/1 - 4s - loss: 0.0027 - accuracy: 1.0000 - 4s/epoch - 4s/step\n",
            "Epoch 171/250\n",
            "1/1 - 4s - loss: 0.0012 - accuracy: 1.0000 - 4s/epoch - 4s/step\n",
            "Epoch 172/250\n",
            "1/1 - 4s - loss: 0.0025 - accuracy: 1.0000 - 4s/epoch - 4s/step\n",
            "Epoch 173/250\n",
            "1/1 - 4s - loss: 0.0053 - accuracy: 1.0000 - 4s/epoch - 4s/step\n",
            "Epoch 174/250\n",
            "1/1 - 4s - loss: 6.6414e-04 - accuracy: 1.0000 - 4s/epoch - 4s/step\n",
            "Epoch 175/250\n",
            "1/1 - 4s - loss: 8.5098e-04 - accuracy: 1.0000 - 4s/epoch - 4s/step\n",
            "Epoch 176/250\n",
            "1/1 - 4s - loss: 0.0033 - accuracy: 1.0000 - 4s/epoch - 4s/step\n",
            "Epoch 177/250\n",
            "1/1 - 4s - loss: 6.0505e-04 - accuracy: 1.0000 - 4s/epoch - 4s/step\n",
            "Epoch 178/250\n",
            "1/1 - 4s - loss: 2.9831e-04 - accuracy: 1.0000 - 4s/epoch - 4s/step\n",
            "Epoch 179/250\n",
            "1/1 - 4s - loss: 5.6099e-04 - accuracy: 1.0000 - 4s/epoch - 4s/step\n",
            "Epoch 180/250\n",
            "1/1 - 4s - loss: 0.0011 - accuracy: 1.0000 - 4s/epoch - 4s/step\n",
            "Epoch 181/250\n",
            "1/1 - 4s - loss: 4.6930e-04 - accuracy: 1.0000 - 4s/epoch - 4s/step\n",
            "Epoch 182/250\n",
            "1/1 - 4s - loss: 0.0033 - accuracy: 1.0000 - 4s/epoch - 4s/step\n",
            "Epoch 183/250\n",
            "1/1 - 4s - loss: 0.0057 - accuracy: 0.9956 - 4s/epoch - 4s/step\n",
            "Epoch 184/250\n",
            "1/1 - 4s - loss: 3.9179e-04 - accuracy: 1.0000 - 4s/epoch - 4s/step\n",
            "Epoch 185/250\n",
            "1/1 - 4s - loss: 9.2577e-04 - accuracy: 1.0000 - 4s/epoch - 4s/step\n",
            "Epoch 186/250\n",
            "1/1 - 4s - loss: 0.0082 - accuracy: 0.9956 - 4s/epoch - 4s/step\n",
            "Epoch 187/250\n",
            "1/1 - 4s - loss: 0.0015 - accuracy: 1.0000 - 4s/epoch - 4s/step\n",
            "Epoch 188/250\n",
            "1/1 - 4s - loss: 8.5426e-04 - accuracy: 1.0000 - 4s/epoch - 4s/step\n",
            "Epoch 189/250\n",
            "1/1 - 4s - loss: 5.3962e-04 - accuracy: 1.0000 - 4s/epoch - 4s/step\n",
            "Epoch 190/250\n",
            "1/1 - 4s - loss: 1.6983e-04 - accuracy: 1.0000 - 4s/epoch - 4s/step\n",
            "Epoch 191/250\n",
            "1/1 - 4s - loss: 0.0021 - accuracy: 1.0000 - 4s/epoch - 4s/step\n",
            "Epoch 192/250\n",
            "1/1 - 4s - loss: 2.5588e-04 - accuracy: 1.0000 - 4s/epoch - 4s/step\n",
            "Epoch 193/250\n",
            "1/1 - 4s - loss: 1.5245e-04 - accuracy: 1.0000 - 4s/epoch - 4s/step\n",
            "Epoch 194/250\n",
            "1/1 - 4s - loss: 1.3478e-04 - accuracy: 1.0000 - 4s/epoch - 4s/step\n",
            "Epoch 195/250\n",
            "1/1 - 4s - loss: 2.5371e-04 - accuracy: 1.0000 - 4s/epoch - 4s/step\n",
            "Epoch 196/250\n",
            "1/1 - 4s - loss: 8.5284e-04 - accuracy: 1.0000 - 4s/epoch - 4s/step\n",
            "Epoch 197/250\n",
            "1/1 - 4s - loss: 6.3324e-04 - accuracy: 1.0000 - 4s/epoch - 4s/step\n",
            "Epoch 198/250\n",
            "1/1 - 4s - loss: 0.0066 - accuracy: 0.9956 - 4s/epoch - 4s/step\n",
            "Epoch 199/250\n",
            "1/1 - 4s - loss: 3.4419e-04 - accuracy: 1.0000 - 4s/epoch - 4s/step\n",
            "Epoch 200/250\n",
            "1/1 - 4s - loss: 0.0098 - accuracy: 0.9956 - 4s/epoch - 4s/step\n",
            "Epoch 201/250\n",
            "1/1 - 4s - loss: 7.8308e-04 - accuracy: 1.0000 - 4s/epoch - 4s/step\n",
            "Epoch 202/250\n",
            "1/1 - 4s - loss: 2.2870e-04 - accuracy: 1.0000 - 4s/epoch - 4s/step\n",
            "Epoch 203/250\n",
            "1/1 - 4s - loss: 2.1114e-04 - accuracy: 1.0000 - 4s/epoch - 4s/step\n",
            "Epoch 204/250\n",
            "1/1 - 4s - loss: 0.0046 - accuracy: 1.0000 - 4s/epoch - 4s/step\n",
            "Epoch 205/250\n",
            "1/1 - 4s - loss: 3.6613e-04 - accuracy: 1.0000 - 4s/epoch - 4s/step\n",
            "Epoch 206/250\n",
            "1/1 - 4s - loss: 0.0061 - accuracy: 0.9956 - 4s/epoch - 4s/step\n",
            "Epoch 207/250\n",
            "1/1 - 4s - loss: 3.0752e-04 - accuracy: 1.0000 - 4s/epoch - 4s/step\n",
            "Epoch 208/250\n",
            "1/1 - 4s - loss: 5.0798e-04 - accuracy: 1.0000 - 4s/epoch - 4s/step\n",
            "Epoch 209/250\n",
            "1/1 - 4s - loss: 4.5012e-04 - accuracy: 1.0000 - 4s/epoch - 4s/step\n",
            "Epoch 210/250\n",
            "1/1 - 4s - loss: 0.0257 - accuracy: 0.9956 - 4s/epoch - 4s/step\n",
            "Epoch 211/250\n",
            "1/1 - 4s - loss: 0.0032 - accuracy: 1.0000 - 4s/epoch - 4s/step\n",
            "Epoch 212/250\n",
            "1/1 - 4s - loss: 0.0020 - accuracy: 1.0000 - 4s/epoch - 4s/step\n",
            "Epoch 213/250\n",
            "1/1 - 4s - loss: 8.5075e-04 - accuracy: 1.0000 - 4s/epoch - 4s/step\n",
            "Epoch 214/250\n",
            "1/1 - 4s - loss: 0.0212 - accuracy: 0.9956 - 4s/epoch - 4s/step\n",
            "Epoch 215/250\n",
            "1/1 - 4s - loss: 0.0207 - accuracy: 0.9912 - 4s/epoch - 4s/step\n",
            "Epoch 216/250\n",
            "1/1 - 4s - loss: 0.0303 - accuracy: 0.9868 - 4s/epoch - 4s/step\n",
            "Epoch 217/250\n",
            "1/1 - 4s - loss: 9.9961e-04 - accuracy: 1.0000 - 4s/epoch - 4s/step\n",
            "Epoch 218/250\n",
            "1/1 - 4s - loss: 0.0036 - accuracy: 1.0000 - 4s/epoch - 4s/step\n",
            "Epoch 219/250\n",
            "1/1 - 4s - loss: 0.0074 - accuracy: 1.0000 - 4s/epoch - 4s/step\n",
            "Epoch 220/250\n",
            "1/1 - 4s - loss: 0.0106 - accuracy: 0.9956 - 4s/epoch - 4s/step\n",
            "Epoch 221/250\n",
            "1/1 - 4s - loss: 0.0046 - accuracy: 1.0000 - 4s/epoch - 4s/step\n",
            "Epoch 222/250\n",
            "1/1 - 4s - loss: 0.0079 - accuracy: 1.0000 - 4s/epoch - 4s/step\n",
            "Epoch 223/250\n",
            "1/1 - 4s - loss: 0.0012 - accuracy: 1.0000 - 4s/epoch - 4s/step\n",
            "Epoch 224/250\n",
            "1/1 - 4s - loss: 0.0030 - accuracy: 1.0000 - 4s/epoch - 4s/step\n",
            "Epoch 225/250\n",
            "1/1 - 4s - loss: 0.0048 - accuracy: 0.9956 - 4s/epoch - 4s/step\n",
            "Epoch 226/250\n",
            "1/1 - 4s - loss: 0.0042 - accuracy: 1.0000 - 4s/epoch - 4s/step\n",
            "Epoch 227/250\n",
            "1/1 - 4s - loss: 0.0074 - accuracy: 0.9956 - 4s/epoch - 4s/step\n",
            "Epoch 228/250\n",
            "1/1 - 4s - loss: 0.0030 - accuracy: 1.0000 - 4s/epoch - 4s/step\n",
            "Epoch 229/250\n",
            "1/1 - 4s - loss: 0.0021 - accuracy: 1.0000 - 4s/epoch - 4s/step\n",
            "Epoch 230/250\n",
            "1/1 - 4s - loss: 0.0030 - accuracy: 1.0000 - 4s/epoch - 4s/step\n",
            "Epoch 231/250\n",
            "1/1 - 4s - loss: 0.0052 - accuracy: 1.0000 - 4s/epoch - 4s/step\n",
            "Epoch 232/250\n",
            "1/1 - 4s - loss: 0.0021 - accuracy: 1.0000 - 4s/epoch - 4s/step\n",
            "Epoch 233/250\n",
            "1/1 - 4s - loss: 9.5843e-04 - accuracy: 1.0000 - 4s/epoch - 4s/step\n",
            "Epoch 234/250\n",
            "1/1 - 4s - loss: 9.9502e-04 - accuracy: 1.0000 - 4s/epoch - 4s/step\n",
            "Epoch 235/250\n",
            "1/1 - 4s - loss: 0.0012 - accuracy: 1.0000 - 4s/epoch - 4s/step\n",
            "Epoch 236/250\n",
            "1/1 - 4s - loss: 7.5410e-04 - accuracy: 1.0000 - 4s/epoch - 4s/step\n",
            "Epoch 237/250\n",
            "1/1 - 4s - loss: 9.5075e-04 - accuracy: 1.0000 - 4s/epoch - 4s/step\n",
            "Epoch 238/250\n",
            "1/1 - 4s - loss: 0.0028 - accuracy: 1.0000 - 4s/epoch - 4s/step\n",
            "Epoch 239/250\n",
            "1/1 - 4s - loss: 8.4629e-04 - accuracy: 1.0000 - 4s/epoch - 4s/step\n",
            "Epoch 240/250\n",
            "1/1 - 4s - loss: 0.0020 - accuracy: 1.0000 - 4s/epoch - 4s/step\n",
            "Epoch 241/250\n",
            "1/1 - 4s - loss: 7.1753e-04 - accuracy: 1.0000 - 4s/epoch - 4s/step\n",
            "Epoch 242/250\n",
            "1/1 - 4s - loss: 9.9255e-04 - accuracy: 1.0000 - 4s/epoch - 4s/step\n",
            "Epoch 243/250\n",
            "1/1 - 4s - loss: 0.0026 - accuracy: 1.0000 - 4s/epoch - 4s/step\n",
            "Epoch 244/250\n",
            "1/1 - 4s - loss: 0.0039 - accuracy: 1.0000 - 4s/epoch - 4s/step\n",
            "Epoch 245/250\n",
            "1/1 - 4s - loss: 2.9150e-04 - accuracy: 1.0000 - 4s/epoch - 4s/step\n",
            "Epoch 246/250\n",
            "1/1 - 4s - loss: 6.9679e-04 - accuracy: 1.0000 - 4s/epoch - 4s/step\n",
            "Epoch 247/250\n",
            "1/1 - 4s - loss: 0.0012 - accuracy: 1.0000 - 4s/epoch - 4s/step\n",
            "Epoch 248/250\n",
            "1/1 - 4s - loss: 0.0042 - accuracy: 1.0000 - 4s/epoch - 4s/step\n",
            "Epoch 249/250\n",
            "1/1 - 4s - loss: 0.0041 - accuracy: 0.9956 - 4s/epoch - 4s/step\n",
            "Epoch 250/250\n",
            "1/1 - 4s - loss: 0.0018 - accuracy: 1.0000 - 4s/epoch - 4s/step\n"
          ]
        }
      ]
    },
    {
      "cell_type": "code",
      "source": [
        "# 5. Avaliando o modelo\n",
        "scor = model.evaluate(X_test, y_test)\n",
        "\n",
        "print('test los: %.4f'% (scor[0]))\n",
        "print('test acc: %.2f'% (scor[1]*100),'%')"
      ],
      "metadata": {
        "colab": {
          "base_uri": "https://localhost:8080/"
        },
        "id": "7G8_MP4jIuhD",
        "outputId": "beb2db00-5211-430e-f4ad-25b192069133"
      },
      "execution_count": null,
      "outputs": [
        {
          "output_type": "stream",
          "name": "stdout",
          "text": [
            "5/5 [==============================] - 1s 161ms/step - loss: 0.3036 - accuracy: 0.9438\n",
            "test los: 0.3036\n",
            "test acc: 94.38 %\n"
          ]
        }
      ]
    }
  ]
}